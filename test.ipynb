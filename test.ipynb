{
 "cells": [
  {
   "cell_type": "code",
   "execution_count": 15,
   "metadata": {},
   "outputs": [],
   "source": [
    "import pandas \n",
    "\n",
    "df = pandas.read_csv('data.csv')"
   ]
  },
  {
   "cell_type": "code",
   "execution_count": 16,
   "metadata": {},
   "outputs": [],
   "source": [
    "df.rename(columns={'Sentence': 'sentence', 'Sentiment': 'label'}, inplace=True)\n",
    "\n",
    "mapping_dict = {'negative': 0, 'neutral': 1, 'positive': 2}\n",
    "df['label'] = df['label'].map(mapping_dict)"
   ]
  },
  {
   "cell_type": "code",
   "execution_count": 17,
   "metadata": {},
   "outputs": [],
   "source": [
    "df_train = df[:4500]\n",
    "df_valid = df[4500:]\n",
    "\n",
    "df_train.to_csv('dataset/train.csv', index=False)\n",
    "df_valid.to_csv('dataset/val.csv', index=False)"
   ]
  },
  {
   "cell_type": "code",
   "execution_count": 21,
   "metadata": {},
   "outputs": [
    {
     "data": {
      "text/plain": [
       "label\n",
       "1    707\n",
       "2    423\n",
       "0    212\n",
       "Name: count, dtype: int64"
      ]
     },
     "execution_count": 21,
     "metadata": {},
     "output_type": "execute_result"
    }
   ],
   "source": [
    "df_valid.value_counts('label')"
   ]
  },
  {
   "cell_type": "code",
   "execution_count": 23,
   "metadata": {},
   "outputs": [
    {
     "data": {
      "text/plain": [
       "label\n",
       "1    3130\n",
       "2    1852\n",
       "0     860\n",
       "Name: count, dtype: int64"
      ]
     },
     "execution_count": 23,
     "metadata": {},
     "output_type": "execute_result"
    }
   ],
   "source": [
    "df.value_counts('label')"
   ]
  },
  {
   "cell_type": "code",
   "execution_count": null,
   "metadata": {},
   "outputs": [],
   "source": []
  },
  {
   "cell_type": "code",
   "execution_count": 5,
   "metadata": {},
   "outputs": [],
   "source": [
    "import transformers\n",
    "from datasets import Dataset, load_dataset, DatasetDict"
   ]
  },
  {
   "cell_type": "code",
   "execution_count": 6,
   "metadata": {},
   "outputs": [
    {
     "name": "stdout",
     "output_type": "stream",
     "text": [
      "Downloading and preparing dataset financial_phrasebank/sentences_50agree to /home/titan-yc/.cache/huggingface/datasets/financial_phrasebank/sentences_50agree/1.0.0/550bde12e6c30e2674da973a55f57edde5181d53f5a5a34c1531c53f93b7e141...\n"
     ]
    },
    {
     "name": "stderr",
     "output_type": "stream",
     "text": [
      "                                                                       \r"
     ]
    },
    {
     "name": "stdout",
     "output_type": "stream",
     "text": [
      "Dataset financial_phrasebank downloaded and prepared to /home/titan-yc/.cache/huggingface/datasets/financial_phrasebank/sentences_50agree/1.0.0/550bde12e6c30e2674da973a55f57edde5181d53f5a5a34c1531c53f93b7e141. Subsequent calls will reuse this data.\n"
     ]
    },
    {
     "name": "stderr",
     "output_type": "stream",
     "text": [
      "100%|██████████| 1/1 [00:00<00:00, 1223.19it/s]\n"
     ]
    }
   ],
   "source": [
    "dataset = load_dataset(\"financial_phrasebank\", \"sentences_50agree\")"
   ]
  },
  {
   "cell_type": "code",
   "execution_count": 8,
   "metadata": {},
   "outputs": [
    {
     "name": "stderr",
     "output_type": "stream",
     "text": [
      "Creating CSV from Arrow format: 100%|██████████| 5/5 [00:00<00:00, 348.76ba/s]\n"
     ]
    }
   ],
   "source": [
    "for split, dataset in dataset.items():\n",
    "    dataset.to_csv(f'dataset/{split}.csv')"
   ]
  },
  {
   "cell_type": "code",
   "execution_count": 9,
   "metadata": {},
   "outputs": [],
   "source": [
    "df = pandas.read_csv('train.csv')"
   ]
  },
  {
   "cell_type": "code",
   "execution_count": 10,
   "metadata": {},
   "outputs": [
    {
     "data": {
      "text/html": [
       "<div>\n",
       "<style scoped>\n",
       "    .dataframe tbody tr th:only-of-type {\n",
       "        vertical-align: middle;\n",
       "    }\n",
       "\n",
       "    .dataframe tbody tr th {\n",
       "        vertical-align: top;\n",
       "    }\n",
       "\n",
       "    .dataframe thead th {\n",
       "        text-align: right;\n",
       "    }\n",
       "</style>\n",
       "<table border=\"1\" class=\"dataframe\">\n",
       "  <thead>\n",
       "    <tr style=\"text-align: right;\">\n",
       "      <th></th>\n",
       "      <th>sentence</th>\n",
       "      <th>label</th>\n",
       "    </tr>\n",
       "  </thead>\n",
       "  <tbody>\n",
       "    <tr>\n",
       "      <th>0</th>\n",
       "      <td>According to Gran , the company has no plans t...</td>\n",
       "      <td>1</td>\n",
       "    </tr>\n",
       "    <tr>\n",
       "      <th>1</th>\n",
       "      <td>Technopolis plans to develop in stages an area...</td>\n",
       "      <td>1</td>\n",
       "    </tr>\n",
       "    <tr>\n",
       "      <th>2</th>\n",
       "      <td>The international electronic industry company ...</td>\n",
       "      <td>0</td>\n",
       "    </tr>\n",
       "    <tr>\n",
       "      <th>3</th>\n",
       "      <td>With the new production plant the company woul...</td>\n",
       "      <td>2</td>\n",
       "    </tr>\n",
       "    <tr>\n",
       "      <th>4</th>\n",
       "      <td>According to the company 's updated strategy f...</td>\n",
       "      <td>2</td>\n",
       "    </tr>\n",
       "    <tr>\n",
       "      <th>...</th>\n",
       "      <td>...</td>\n",
       "      <td>...</td>\n",
       "    </tr>\n",
       "    <tr>\n",
       "      <th>4841</th>\n",
       "      <td>LONDON MarketWatch -- Share prices ended lower...</td>\n",
       "      <td>0</td>\n",
       "    </tr>\n",
       "    <tr>\n",
       "      <th>4842</th>\n",
       "      <td>Rinkuskiai 's beer sales fell by 6.5 per cent ...</td>\n",
       "      <td>1</td>\n",
       "    </tr>\n",
       "    <tr>\n",
       "      <th>4843</th>\n",
       "      <td>Operating profit fell to EUR 35.4 mn from EUR ...</td>\n",
       "      <td>0</td>\n",
       "    </tr>\n",
       "    <tr>\n",
       "      <th>4844</th>\n",
       "      <td>Net sales of the Paper segment decreased to EU...</td>\n",
       "      <td>0</td>\n",
       "    </tr>\n",
       "    <tr>\n",
       "      <th>4845</th>\n",
       "      <td>Sales in Finland decreased by 10.5 % in Januar...</td>\n",
       "      <td>0</td>\n",
       "    </tr>\n",
       "  </tbody>\n",
       "</table>\n",
       "<p>4846 rows × 2 columns</p>\n",
       "</div>"
      ],
      "text/plain": [
       "                                               sentence  label\n",
       "0     According to Gran , the company has no plans t...      1\n",
       "1     Technopolis plans to develop in stages an area...      1\n",
       "2     The international electronic industry company ...      0\n",
       "3     With the new production plant the company woul...      2\n",
       "4     According to the company 's updated strategy f...      2\n",
       "...                                                 ...    ...\n",
       "4841  LONDON MarketWatch -- Share prices ended lower...      0\n",
       "4842  Rinkuskiai 's beer sales fell by 6.5 per cent ...      1\n",
       "4843  Operating profit fell to EUR 35.4 mn from EUR ...      0\n",
       "4844  Net sales of the Paper segment decreased to EU...      0\n",
       "4845  Sales in Finland decreased by 10.5 % in Januar...      0\n",
       "\n",
       "[4846 rows x 2 columns]"
      ]
     },
     "execution_count": 10,
     "metadata": {},
     "output_type": "execute_result"
    }
   ],
   "source": [
    "df"
   ]
  },
  {
   "cell_type": "code",
   "execution_count": 24,
   "metadata": {},
   "outputs": [
    {
     "name": "stdout",
     "output_type": "stream",
     "text": [
      "Collecting titan-iris\n",
      "  Downloading titan_iris-0.8.22-py3-none-any.whl (33 kB)\n",
      "Collecting typer~=0.7.0 (from titan-iris)\n",
      "  Using cached typer-0.7.0-py3-none-any.whl (38 kB)\n",
      "Collecting rich~=13.3.1 (from titan-iris)\n",
      "  Using cached rich-13.3.5-py3-none-any.whl (238 kB)\n",
      "Collecting omegaconf~=2.3.0 (from titan-iris)\n",
      "  Using cached omegaconf-2.3.0-py3-none-any.whl (79 kB)\n",
      "Collecting requests~=2.28.2 (from titan-iris)\n",
      "  Using cached requests-2.28.2-py3-none-any.whl (62 kB)\n",
      "Collecting auth0-python~=3.24.1 (from titan-iris)\n",
      "  Using cached auth0_python-3.24.1-py2.py3-none-any.whl (122 kB)\n",
      "Collecting python-dotenv~=0.19.1 (from titan-iris)\n",
      "  Using cached python_dotenv-0.19.2-py2.py3-none-any.whl (17 kB)\n",
      "Collecting docker~=6.0.1 (from titan-iris)\n",
      "  Using cached docker-6.0.1-py3-none-any.whl (147 kB)\n",
      "Collecting tqdm~=4.64.1 (from titan-iris)\n",
      "  Using cached tqdm-4.64.1-py2.py3-none-any.whl (78 kB)\n",
      "Collecting wget~=3.2 (from titan-iris)\n",
      "  Using cached wget-3.2-py3-none-any.whl\n",
      "Collecting jmespath~=1.0 (from titan-iris)\n",
      "  Using cached jmespath-1.0.1-py3-none-any.whl (20 kB)\n",
      "Collecting tritonclient[http]~=2.30.0 (from titan-iris)\n",
      "  Using cached tritonclient-2.30.0-py3-none-manylinux1_x86_64.whl (11.7 MB)\n",
      "Requirement already satisfied: numpy>=1.20.0 in /home/titan-yc/anaconda3/envs/transformers/lib/python3.9/site-packages (from titan-iris) (1.25.0)\n",
      "Collecting tabulate~=0.9.0 (from titan-iris)\n",
      "  Using cached tabulate-0.9.0-py3-none-any.whl (35 kB)\n",
      "Collecting trogon~=0.2.1 (from titan-iris)\n",
      "  Using cached trogon-0.2.1-py3-none-any.whl (23 kB)\n",
      "Collecting pyjwt[crypto]>=1.7.1 (from auth0-python~=3.24.1->titan-iris)\n",
      "  Using cached PyJWT-2.7.0-py3-none-any.whl (22 kB)\n",
      "Requirement already satisfied: packaging>=14.0 in /home/titan-yc/anaconda3/envs/transformers/lib/python3.9/site-packages (from docker~=6.0.1->titan-iris) (23.1)\n",
      "Requirement already satisfied: urllib3>=1.26.0 in /home/titan-yc/anaconda3/envs/transformers/lib/python3.9/site-packages (from docker~=6.0.1->titan-iris) (2.0.3)\n",
      "Collecting websocket-client>=0.32.0 (from docker~=6.0.1->titan-iris)\n",
      "  Using cached websocket_client-1.6.1-py3-none-any.whl (56 kB)\n",
      "Collecting antlr4-python3-runtime==4.9.* (from omegaconf~=2.3.0->titan-iris)\n",
      "  Using cached antlr4_python3_runtime-4.9.3-py3-none-any.whl\n",
      "Requirement already satisfied: PyYAML>=5.1.0 in /home/titan-yc/anaconda3/envs/transformers/lib/python3.9/site-packages (from omegaconf~=2.3.0->titan-iris) (6.0)\n",
      "Requirement already satisfied: charset-normalizer<4,>=2 in /home/titan-yc/anaconda3/envs/transformers/lib/python3.9/site-packages (from requests~=2.28.2->titan-iris) (3.1.0)\n",
      "Requirement already satisfied: idna<4,>=2.5 in /home/titan-yc/anaconda3/envs/transformers/lib/python3.9/site-packages (from requests~=2.28.2->titan-iris) (3.4)\n",
      "Collecting urllib3>=1.26.0 (from docker~=6.0.1->titan-iris)\n",
      "  Using cached urllib3-1.26.16-py2.py3-none-any.whl (143 kB)\n",
      "Requirement already satisfied: certifi>=2017.4.17 in /home/titan-yc/anaconda3/envs/transformers/lib/python3.9/site-packages (from requests~=2.28.2->titan-iris) (2023.5.7)\n",
      "Collecting markdown-it-py<3.0.0,>=2.2.0 (from rich~=13.3.1->titan-iris)\n",
      "  Using cached markdown_it_py-2.2.0-py3-none-any.whl (84 kB)\n",
      "Requirement already satisfied: pygments<3.0.0,>=2.13.0 in /home/titan-yc/anaconda3/envs/transformers/lib/python3.9/site-packages (from rich~=13.3.1->titan-iris) (2.15.1)\n",
      "Collecting python-rapidjson>=0.9.1 (from tritonclient[http]~=2.30.0->titan-iris)\n",
      "  Using cached python_rapidjson-1.10-cp39-cp39-manylinux_2_17_x86_64.manylinux2014_x86_64.whl (1.7 MB)\n",
      "Collecting geventhttpclient<=2.0.2,>=1.4.4 (from tritonclient[http]~=2.30.0->titan-iris)\n",
      "  Using cached geventhttpclient-2.0.2-cp39-cp39-manylinux_2_5_x86_64.manylinux1_x86_64.manylinux_2_17_x86_64.manylinux2014_x86_64.whl (100 kB)\n",
      "Requirement already satisfied: aiohttp>=3.8.1 in /home/titan-yc/anaconda3/envs/transformers/lib/python3.9/site-packages (from tritonclient[http]~=2.30.0->titan-iris) (3.8.4)\n",
      "Collecting click>=8.0.0 (from trogon~=0.2.1->titan-iris)\n",
      "  Using cached click-8.1.3-py3-none-any.whl (96 kB)\n",
      "Collecting textual>=0.26.0 (from trogon~=0.2.1->titan-iris)\n",
      "  Using cached textual-0.28.1-py3-none-any.whl (418 kB)\n",
      "Requirement already satisfied: attrs>=17.3.0 in /home/titan-yc/anaconda3/envs/transformers/lib/python3.9/site-packages (from aiohttp>=3.8.1->tritonclient[http]~=2.30.0->titan-iris) (23.1.0)\n",
      "Requirement already satisfied: multidict<7.0,>=4.5 in /home/titan-yc/anaconda3/envs/transformers/lib/python3.9/site-packages (from aiohttp>=3.8.1->tritonclient[http]~=2.30.0->titan-iris) (6.0.4)\n",
      "Requirement already satisfied: async-timeout<5.0,>=4.0.0a3 in /home/titan-yc/anaconda3/envs/transformers/lib/python3.9/site-packages (from aiohttp>=3.8.1->tritonclient[http]~=2.30.0->titan-iris) (4.0.2)\n",
      "Requirement already satisfied: yarl<2.0,>=1.0 in /home/titan-yc/anaconda3/envs/transformers/lib/python3.9/site-packages (from aiohttp>=3.8.1->tritonclient[http]~=2.30.0->titan-iris) (1.9.2)\n",
      "Requirement already satisfied: frozenlist>=1.1.1 in /home/titan-yc/anaconda3/envs/transformers/lib/python3.9/site-packages (from aiohttp>=3.8.1->tritonclient[http]~=2.30.0->titan-iris) (1.3.3)\n",
      "Requirement already satisfied: aiosignal>=1.1.2 in /home/titan-yc/anaconda3/envs/transformers/lib/python3.9/site-packages (from aiohttp>=3.8.1->tritonclient[http]~=2.30.0->titan-iris) (1.3.1)\n",
      "Collecting gevent>=0.13 (from geventhttpclient<=2.0.2,>=1.4.4->tritonclient[http]~=2.30.0->titan-iris)\n",
      "  Using cached gevent-22.10.2-cp39-cp39-manylinux_2_17_x86_64.manylinux2014_x86_64.whl (6.4 MB)\n",
      "Requirement already satisfied: six in /home/titan-yc/anaconda3/envs/transformers/lib/python3.9/site-packages (from geventhttpclient<=2.0.2,>=1.4.4->tritonclient[http]~=2.30.0->titan-iris) (1.16.0)\n",
      "Collecting brotli (from geventhttpclient<=2.0.2,>=1.4.4->tritonclient[http]~=2.30.0->titan-iris)\n",
      "  Using cached Brotli-1.0.9-cp39-cp39-manylinux1_x86_64.whl (357 kB)\n",
      "Collecting mdurl~=0.1 (from markdown-it-py<3.0.0,>=2.2.0->rich~=13.3.1->titan-iris)\n",
      "  Using cached mdurl-0.1.2-py3-none-any.whl (10.0 kB)\n",
      "Collecting cryptography>=3.4.0 (from pyjwt[crypto]>=1.7.1->auth0-python~=3.24.1->titan-iris)\n",
      "  Using cached cryptography-41.0.1-cp37-abi3-manylinux_2_28_x86_64.whl (4.3 MB)\n",
      "Collecting importlib-metadata>=4.11.3 (from textual>=0.26.0->trogon~=0.2.1->titan-iris)\n",
      "  Using cached importlib_metadata-6.7.0-py3-none-any.whl (22 kB)\n",
      "Requirement already satisfied: typing-extensions<5.0.0,>=4.4.0 in /home/titan-yc/anaconda3/envs/transformers/lib/python3.9/site-packages (from textual>=0.26.0->trogon~=0.2.1->titan-iris) (4.6.3)\n",
      "Collecting cffi>=1.12 (from cryptography>=3.4.0->pyjwt[crypto]>=1.7.1->auth0-python~=3.24.1->titan-iris)\n",
      "  Using cached cffi-1.15.1-cp39-cp39-manylinux_2_17_x86_64.manylinux2014_x86_64.whl (441 kB)\n",
      "Collecting zope.event (from gevent>=0.13->geventhttpclient<=2.0.2,>=1.4.4->tritonclient[http]~=2.30.0->titan-iris)\n",
      "  Using cached zope.event-5.0-py3-none-any.whl (6.8 kB)\n",
      "Collecting zope.interface (from gevent>=0.13->geventhttpclient<=2.0.2,>=1.4.4->tritonclient[http]~=2.30.0->titan-iris)\n",
      "  Using cached zope.interface-6.0-cp39-cp39-manylinux_2_5_x86_64.manylinux1_x86_64.manylinux_2_17_x86_64.manylinux2014_x86_64.whl (246 kB)\n",
      "Requirement already satisfied: setuptools in /home/titan-yc/anaconda3/envs/transformers/lib/python3.9/site-packages (from gevent>=0.13->geventhttpclient<=2.0.2,>=1.4.4->tritonclient[http]~=2.30.0->titan-iris) (67.8.0)\n",
      "Collecting greenlet>=2.0.0 (from gevent>=0.13->geventhttpclient<=2.0.2,>=1.4.4->tritonclient[http]~=2.30.0->titan-iris)\n",
      "  Using cached greenlet-2.0.2-cp39-cp39-manylinux_2_17_x86_64.manylinux2014_x86_64.whl (610 kB)\n",
      "Collecting zipp>=0.5 (from importlib-metadata>=4.11.3->textual>=0.26.0->trogon~=0.2.1->titan-iris)\n",
      "  Using cached zipp-3.15.0-py3-none-any.whl (6.8 kB)\n",
      "Collecting linkify-it-py<3,>=1 (from markdown-it-py<3.0.0,>=2.2.0->rich~=13.3.1->titan-iris)\n",
      "  Using cached linkify_it_py-2.0.2-py3-none-any.whl (19 kB)\n",
      "Collecting mdit-py-plugins (from markdown-it-py<3.0.0,>=2.2.0->rich~=13.3.1->titan-iris)\n",
      "  Using cached mdit_py_plugins-0.4.0-py3-none-any.whl (54 kB)\n",
      "Collecting pycparser (from cffi>=1.12->cryptography>=3.4.0->pyjwt[crypto]>=1.7.1->auth0-python~=3.24.1->titan-iris)\n",
      "  Using cached pycparser-2.21-py2.py3-none-any.whl (118 kB)\n",
      "Collecting uc-micro-py (from linkify-it-py<3,>=1->markdown-it-py<3.0.0,>=2.2.0->rich~=13.3.1->titan-iris)\n",
      "  Using cached uc_micro_py-1.0.2-py3-none-any.whl (6.2 kB)\n",
      "Installing collected packages: wget, brotli, antlr4-python3-runtime, zope.interface, zope.event, zipp, websocket-client, urllib3, uc-micro-py, tqdm, tabulate, python-rapidjson, python-dotenv, pyjwt, pycparser, omegaconf, mdurl, jmespath, greenlet, click, typer, tritonclient, requests, markdown-it-py, linkify-it-py, importlib-metadata, gevent, cffi, rich, mdit-py-plugins, geventhttpclient, docker, cryptography, textual, auth0-python, trogon, titan-iris\n",
      "  Attempting uninstall: urllib3\n",
      "    Found existing installation: urllib3 2.0.3\n",
      "    Uninstalling urllib3-2.0.3:\n",
      "      Successfully uninstalled urllib3-2.0.3\n",
      "  Attempting uninstall: tqdm\n",
      "    Found existing installation: tqdm 4.65.0\n",
      "    Uninstalling tqdm-4.65.0:\n",
      "      Successfully uninstalled tqdm-4.65.0\n",
      "  Attempting uninstall: requests\n",
      "    Found existing installation: requests 2.31.0\n",
      "    Uninstalling requests-2.31.0:\n",
      "      Successfully uninstalled requests-2.31.0\n",
      "Successfully installed antlr4-python3-runtime-4.9.3 auth0-python-3.24.1 brotli-1.0.9 cffi-1.15.1 click-8.1.3 cryptography-41.0.1 docker-6.0.1 gevent-22.10.2 geventhttpclient-2.0.2 greenlet-2.0.2 importlib-metadata-6.7.0 jmespath-1.0.1 linkify-it-py-2.0.2 markdown-it-py-2.2.0 mdit-py-plugins-0.4.0 mdurl-0.1.2 omegaconf-2.3.0 pycparser-2.21 pyjwt-2.7.0 python-dotenv-0.19.2 python-rapidjson-1.10 requests-2.28.2 rich-13.3.5 tabulate-0.9.0 textual-0.28.1 titan-iris-0.8.22 tqdm-4.64.1 tritonclient-2.30.0 trogon-0.2.1 typer-0.7.0 uc-micro-py-1.0.2 urllib3-1.26.16 websocket-client-1.6.1 wget-3.2 zipp-3.15.0 zope.event-5.0 zope.interface-6.0\n"
     ]
    }
   ],
   "source": [
    "!pip install titan-iris"
   ]
  },
  {
   "cell_type": "code",
   "execution_count": 30,
   "metadata": {},
   "outputs": [
    {
     "data": {
      "text/html": [
       "<pre style=\"white-space:pre;overflow-x:auto;line-height:normal;font-family:Menlo,'DejaVu Sans Mono',consolas,'Courier New',monospace\">runtime is  trt\n",
       "</pre>\n"
      ],
      "text/plain": [
       "runtime is  trt\n"
      ]
     },
     "metadata": {},
     "output_type": "display_data"
    },
    {
     "data": {
      "text/plain": [
       "[{'label': 'LABEL_0', 'score': 0.8192955255508423}]"
      ]
     },
     "execution_count": 30,
     "metadata": {},
     "output_type": "execute_result"
    }
   ],
   "source": [
    "from iris.sdk import infer\n",
    "\n",
    "\n",
    "infer(url=\"localhost:8000\", task_name=\"sequence_classification\", text=[\"$ESI on lows, down $1.50 to $2.50 BK a real possibility\"])"
   ]
  },
  {
   "cell_type": "code",
   "execution_count": 32,
   "metadata": {},
   "outputs": [
    {
     "name": "stdout",
     "output_type": "stream",
     "text": [
      "['Rivian’s Stock Price Rises', 'Blink Charging Stock Pops Ahead Of Earnings As Infrastructure Bill Earmarks Billions For EV Charging', \"Explainer-Five legal questions raised by Elon Musk's unorthodox share sales\", 'It’s bizarro world in the auto industry, again', 'EV Stocks On Fire: Tesla Rival Lucid Rallies, Rivian Extends First-Day Pop, Fisker Breaks Out', 'Stock Market Today: Dour Disney Results Drag Down the Dow', 'Elon Musk Is Unloading Billions of Dollars of Tesla Stock', 'Blink Charging Stock Pops On Record Revenue, But Earnings Miss', \"If you're worried about a stock market correction, Jim Cramer just mentioned five 'borderline unstoppable' megatrends for the rest of 2021\", 'Dow Jones Lags As Disney Earnings Weigh; Tesla Falls After Elon Musk Does This; Rivian Stock Explodes', '6 ProShares ETFs Betting On the Future of Next-Gen Industries', 'Dow Jones Futures: Rivian Stock Revs Higher In Market Rally; Tesla Digests Elon Musk Sales', 'Musk Throws Fresh Shade at Rivian a Day After Rival’s Big IPO', \"Musk says high production, breakeven cash flow 'true test' for Rivian\", \"Musk says high production, breakeven cash flow 'true test' for Rivian\"]\n",
      "[\"UPDATE 1-Zoox headcount grows as Amazon's self-driving unit expands testing in Vegas\", 'Amazon may be the largest US retailer in 2024, according to J.P. Morgan analysts', 'Amazon may be the largest US retailer in 2024, according to JPMorgan analysts', 'Should You Buy These 2 Chinese E-Commerce Stocks?', '3 Smart Reasons to Buy AMD Stock', 'UPDATE 1-US retailers targeted with bomb threats in recent months, seeking bitcoin and gift cards -WSJ', '10 Biggest Companies in the World', 'Tesla, Alphabet fall premarket; Moderna, Lucid Group rise', 'Why Wall Street Thinks the Joyride for Apple, Amazon, and Google Stocks Could Nearly Be Over', 'Is Amazon Stock a Buy?']\n"
     ]
    }
   ],
   "source": [
    "\n",
    "\n",
    "\n",
    "import requests\n",
    "api_key = '649b1d2f4aadf0.76487539'\n",
    "\n",
    "def get_stock_news(stock, api_key):\n",
    "    url = f'https://eodhistoricaldata.com/api/news?api_token={api_key}&s={stock}'\n",
    "    news_json = requests.get(url).json()\n",
    "    \n",
    "    news = []\n",
    "    \n",
    "    for i in range(10):\n",
    "        title = news_json[-i]['title']\n",
    "        news.append(title)\n",
    "    \n",
    "    return news\n",
    "\n",
    "amzn_news = get_stock_news('AMZN', api_key)\n",
    "\n",
    "def get_customized_news(stock, start_date, end_date, n_news, api_key, offset = 0):\n",
    "    url = f'https://eodhistoricaldata.com/api/news?api_token={api_key}&s={stock}&limit={n_news}&offset={offset}&from={start_date}&to={end_date}'\n",
    "    news_json = requests.get(url).json()\n",
    "    \n",
    "    news = []\n",
    "    \n",
    "    for i in range(len(news_json)):\n",
    "        title = news_json[-i]['title']\n",
    "        news.append(title)\n",
    "    \n",
    "    return news\n",
    "\n",
    "tsla_news = get_customized_news('TSLA', '2021-11-09', '2021-11-11', 15, api_key, 0)\n",
    "\n",
    "print(tsla_news)\n",
    "print(amzn_news)"
   ]
  },
  {
   "cell_type": "code",
   "execution_count": 33,
   "metadata": {},
   "outputs": [
    {
     "data": {
      "text/plain": [
       "['Rivian’s Stock Price Rises',\n",
       " 'Blink Charging Stock Pops Ahead Of Earnings As Infrastructure Bill Earmarks Billions For EV Charging',\n",
       " \"Explainer-Five legal questions raised by Elon Musk's unorthodox share sales\",\n",
       " 'It’s bizarro world in the auto industry, again',\n",
       " 'EV Stocks On Fire: Tesla Rival Lucid Rallies, Rivian Extends First-Day Pop, Fisker Breaks Out',\n",
       " 'Stock Market Today: Dour Disney Results Drag Down the Dow',\n",
       " 'Elon Musk Is Unloading Billions of Dollars of Tesla Stock',\n",
       " 'Blink Charging Stock Pops On Record Revenue, But Earnings Miss',\n",
       " \"If you're worried about a stock market correction, Jim Cramer just mentioned five 'borderline unstoppable' megatrends for the rest of 2021\",\n",
       " 'Dow Jones Lags As Disney Earnings Weigh; Tesla Falls After Elon Musk Does This; Rivian Stock Explodes',\n",
       " '6 ProShares ETFs Betting On the Future of Next-Gen Industries',\n",
       " 'Dow Jones Futures: Rivian Stock Revs Higher In Market Rally; Tesla Digests Elon Musk Sales',\n",
       " 'Musk Throws Fresh Shade at Rivian a Day After Rival’s Big IPO',\n",
       " \"Musk says high production, breakeven cash flow 'true test' for Rivian\",\n",
       " \"Musk says high production, breakeven cash flow 'true test' for Rivian\"]"
      ]
     },
     "execution_count": 33,
     "metadata": {},
     "output_type": "execute_result"
    }
   ],
   "source": [
    "tsla_news"
   ]
  },
  {
   "cell_type": "code",
   "execution_count": 35,
   "metadata": {},
   "outputs": [],
   "source": [
    "def infer_test(news_list):\n",
    "    for news in news_list:\n",
    "        res = infer(url=\"localhost:8000\", task_name=\"sequence_classification\", text=[news])[0]\n",
    "        print(res['label'], res['score'])\n"
   ]
  },
  {
   "cell_type": "code",
   "execution_count": 36,
   "metadata": {},
   "outputs": [
    {
     "data": {
      "text/html": [
       "<pre style=\"white-space:pre;overflow-x:auto;line-height:normal;font-family:Menlo,'DejaVu Sans Mono',consolas,'Courier New',monospace\">runtime is  trt\n",
       "</pre>\n"
      ],
      "text/plain": [
       "runtime is  trt\n"
      ]
     },
     "metadata": {},
     "output_type": "display_data"
    },
    {
     "name": "stdout",
     "output_type": "stream",
     "text": [
      "LABEL_2 0.6182441711425781\n"
     ]
    },
    {
     "data": {
      "text/html": [
       "<pre style=\"white-space:pre;overflow-x:auto;line-height:normal;font-family:Menlo,'DejaVu Sans Mono',consolas,'Courier New',monospace\">runtime is  trt\n",
       "</pre>\n"
      ],
      "text/plain": [
       "runtime is  trt\n"
      ]
     },
     "metadata": {},
     "output_type": "display_data"
    },
    {
     "name": "stdout",
     "output_type": "stream",
     "text": [
      "LABEL_1 0.48867443203926086\n"
     ]
    },
    {
     "data": {
      "text/html": [
       "<pre style=\"white-space:pre;overflow-x:auto;line-height:normal;font-family:Menlo,'DejaVu Sans Mono',consolas,'Courier New',monospace\">runtime is  trt\n",
       "</pre>\n"
      ],
      "text/plain": [
       "runtime is  trt\n"
      ]
     },
     "metadata": {},
     "output_type": "display_data"
    },
    {
     "name": "stdout",
     "output_type": "stream",
     "text": [
      "LABEL_0 0.65919029712677\n"
     ]
    },
    {
     "data": {
      "text/html": [
       "<pre style=\"white-space:pre;overflow-x:auto;line-height:normal;font-family:Menlo,'DejaVu Sans Mono',consolas,'Courier New',monospace\">runtime is  trt\n",
       "</pre>\n"
      ],
      "text/plain": [
       "runtime is  trt\n"
      ]
     },
     "metadata": {},
     "output_type": "display_data"
    },
    {
     "name": "stdout",
     "output_type": "stream",
     "text": [
      "LABEL_1 0.8019661903381348\n"
     ]
    },
    {
     "data": {
      "text/html": [
       "<pre style=\"white-space:pre;overflow-x:auto;line-height:normal;font-family:Menlo,'DejaVu Sans Mono',consolas,'Courier New',monospace\">runtime is  trt\n",
       "</pre>\n"
      ],
      "text/plain": [
       "runtime is  trt\n"
      ]
     },
     "metadata": {},
     "output_type": "display_data"
    },
    {
     "name": "stdout",
     "output_type": "stream",
     "text": [
      "LABEL_2 0.558078408241272\n"
     ]
    },
    {
     "data": {
      "text/html": [
       "<pre style=\"white-space:pre;overflow-x:auto;line-height:normal;font-family:Menlo,'DejaVu Sans Mono',consolas,'Courier New',monospace\">runtime is  trt\n",
       "</pre>\n"
      ],
      "text/plain": [
       "runtime is  trt\n"
      ]
     },
     "metadata": {},
     "output_type": "display_data"
    },
    {
     "name": "stdout",
     "output_type": "stream",
     "text": [
      "LABEL_1 0.44438087940216064\n"
     ]
    },
    {
     "data": {
      "text/html": [
       "<pre style=\"white-space:pre;overflow-x:auto;line-height:normal;font-family:Menlo,'DejaVu Sans Mono',consolas,'Courier New',monospace\">runtime is  trt\n",
       "</pre>\n"
      ],
      "text/plain": [
       "runtime is  trt\n"
      ]
     },
     "metadata": {},
     "output_type": "display_data"
    },
    {
     "name": "stdout",
     "output_type": "stream",
     "text": [
      "LABEL_2 0.5169236660003662\n"
     ]
    },
    {
     "data": {
      "text/html": [
       "<pre style=\"white-space:pre;overflow-x:auto;line-height:normal;font-family:Menlo,'DejaVu Sans Mono',consolas,'Courier New',monospace\">runtime is  trt\n",
       "</pre>\n"
      ],
      "text/plain": [
       "runtime is  trt\n"
      ]
     },
     "metadata": {},
     "output_type": "display_data"
    },
    {
     "name": "stdout",
     "output_type": "stream",
     "text": [
      "LABEL_1 0.49465617537498474\n"
     ]
    },
    {
     "data": {
      "text/html": [
       "<pre style=\"white-space:pre;overflow-x:auto;line-height:normal;font-family:Menlo,'DejaVu Sans Mono',consolas,'Courier New',monospace\">runtime is  trt\n",
       "</pre>\n"
      ],
      "text/plain": [
       "runtime is  trt\n"
      ]
     },
     "metadata": {},
     "output_type": "display_data"
    },
    {
     "name": "stdout",
     "output_type": "stream",
     "text": [
      "LABEL_0 0.5612353682518005\n"
     ]
    },
    {
     "data": {
      "text/html": [
       "<pre style=\"white-space:pre;overflow-x:auto;line-height:normal;font-family:Menlo,'DejaVu Sans Mono',consolas,'Courier New',monospace\">runtime is  trt\n",
       "</pre>\n"
      ],
      "text/plain": [
       "runtime is  trt\n"
      ]
     },
     "metadata": {},
     "output_type": "display_data"
    },
    {
     "name": "stdout",
     "output_type": "stream",
     "text": [
      "LABEL_2 0.6362313032150269\n"
     ]
    },
    {
     "data": {
      "text/html": [
       "<pre style=\"white-space:pre;overflow-x:auto;line-height:normal;font-family:Menlo,'DejaVu Sans Mono',consolas,'Courier New',monospace\">runtime is  trt\n",
       "</pre>\n"
      ],
      "text/plain": [
       "runtime is  trt\n"
      ]
     },
     "metadata": {},
     "output_type": "display_data"
    },
    {
     "name": "stdout",
     "output_type": "stream",
     "text": [
      "LABEL_2 0.5776634812355042\n"
     ]
    },
    {
     "data": {
      "text/html": [
       "<pre style=\"white-space:pre;overflow-x:auto;line-height:normal;font-family:Menlo,'DejaVu Sans Mono',consolas,'Courier New',monospace\">runtime is  trt\n",
       "</pre>\n"
      ],
      "text/plain": [
       "runtime is  trt\n"
      ]
     },
     "metadata": {},
     "output_type": "display_data"
    },
    {
     "name": "stdout",
     "output_type": "stream",
     "text": [
      "LABEL_2 0.5140887498855591\n"
     ]
    },
    {
     "data": {
      "text/html": [
       "<pre style=\"white-space:pre;overflow-x:auto;line-height:normal;font-family:Menlo,'DejaVu Sans Mono',consolas,'Courier New',monospace\">runtime is  trt\n",
       "</pre>\n"
      ],
      "text/plain": [
       "runtime is  trt\n"
      ]
     },
     "metadata": {},
     "output_type": "display_data"
    },
    {
     "name": "stdout",
     "output_type": "stream",
     "text": [
      "LABEL_2 0.6831785440444946\n"
     ]
    },
    {
     "data": {
      "text/html": [
       "<pre style=\"white-space:pre;overflow-x:auto;line-height:normal;font-family:Menlo,'DejaVu Sans Mono',consolas,'Courier New',monospace\">runtime is  trt\n",
       "</pre>\n"
      ],
      "text/plain": [
       "runtime is  trt\n"
      ]
     },
     "metadata": {},
     "output_type": "display_data"
    },
    {
     "name": "stdout",
     "output_type": "stream",
     "text": [
      "LABEL_2 0.7444486618041992\n"
     ]
    },
    {
     "data": {
      "text/html": [
       "<pre style=\"white-space:pre;overflow-x:auto;line-height:normal;font-family:Menlo,'DejaVu Sans Mono',consolas,'Courier New',monospace\">runtime is  trt\n",
       "</pre>\n"
      ],
      "text/plain": [
       "runtime is  trt\n"
      ]
     },
     "metadata": {},
     "output_type": "display_data"
    },
    {
     "name": "stdout",
     "output_type": "stream",
     "text": [
      "LABEL_2 0.7444486618041992\n"
     ]
    }
   ],
   "source": [
    "infer_test(tsla_news)"
   ]
  },
  {
   "cell_type": "code",
   "execution_count": null,
   "metadata": {},
   "outputs": [],
   "source": []
  }
 ],
 "metadata": {
  "kernelspec": {
   "display_name": "transformers",
   "language": "python",
   "name": "python3"
  },
  "language_info": {
   "codemirror_mode": {
    "name": "ipython",
    "version": 3
   },
   "file_extension": ".py",
   "mimetype": "text/x-python",
   "name": "python",
   "nbconvert_exporter": "python",
   "pygments_lexer": "ipython3",
   "version": "3.9.16"
  },
  "orig_nbformat": 4
 },
 "nbformat": 4,
 "nbformat_minor": 2
}
